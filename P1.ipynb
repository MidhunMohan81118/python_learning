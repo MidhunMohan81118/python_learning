{
 "cells": [
  {
   "cell_type": "markdown",
   "metadata": {},
   "source": [
    "# Date Time Module"
   ]
  },
  {
   "cell_type": "code",
   "execution_count": 26,
   "metadata": {},
   "outputs": [
    {
     "name": "stdout",
     "output_type": "stream",
     "text": [
      "Current date and time :  2024-07-23 16:29:41.363837\n",
      "time.struct_time(tm_year=2024, tm_mon=7, tm_mday=23, tm_hour=16, tm_min=29, tm_sec=41, tm_wday=1, tm_yday=205, tm_isdst=0)\n"
     ]
    }
   ],
   "source": [
    "import datetime\n",
    "import time\n",
    "Date_now=datetime.datetime.now()\n",
    "print(\"Current date and time : \",Date_now)\n",
    "\n",
    "ctime=time.localtime(time.time())\n",
    "print(ctime)"
   ]
  },
  {
   "cell_type": "markdown",
   "metadata": {},
   "source": [
    "Random"
   ]
  },
  {
   "cell_type": "code",
   "execution_count": 1,
   "metadata": {},
   "outputs": [
    {
     "name": "stdout",
     "output_type": "stream",
     "text": [
      "0.33002796947022395\n",
      "3736\n",
      "3\n",
      "[8, 3, 6, 5]\n",
      "[8, 3, 6, 2, 1, 4, 5, 7]\n"
     ]
    }
   ],
   "source": [
    "import random\n",
    "\n",
    "print(random.random())\n",
    "print(random.randint(0000,9999))\n",
    "\n",
    "a=[1,2,3,4,5,6,7,8]\n",
    "print(random.choice(a))\n",
    "print(random.choices(a,k=4))\n",
    "random.shuffle(a)\n",
    "print(a)"
   ]
  },
  {
   "cell_type": "markdown",
   "metadata": {},
   "source": [
    "#List Comprehension"
   ]
  },
  {
   "cell_type": "code",
   "execution_count": 8,
   "metadata": {},
   "outputs": [
    {
     "name": "stdout",
     "output_type": "stream",
     "text": [
      "[1, 2, 3, 4, 5, 6, 7, 8, 9]\n",
      "[2, 4, 6, 8, 10]\n",
      "['Odd', 'Even', 'Odd', 'Even', 'Odd', 'Even', 'Odd', 'Even', 'Odd', 'Even']\n"
     ]
    }
   ],
   "source": [
    "myList = [i for i in range(1,10)]\n",
    "print(myList)\n",
    "\n",
    "l=[1,2,3,4,5,6,7,8,9,10]\n",
    "print([i for i in l if i%2==0])\n",
    "print([\"Even\" if i%2==0 else \"Odd\" for i in l])"
   ]
  },
  {
   "cell_type": "markdown",
   "metadata": {},
   "source": [
    "Lambda"
   ]
  },
  {
   "cell_type": "code",
   "execution_count": 19,
   "metadata": {},
   "outputs": [
    {
     "name": "stdout",
     "output_type": "stream",
     "text": [
      "40\n",
      "6\n"
     ]
    }
   ],
   "source": [
    "a=lambda a: a*5\n",
    "print(a(8))\n",
    "\n",
    "mul=lambda a,b :a*b\n",
    "print(mul(2,3))"
   ]
  },
  {
   "cell_type": "markdown",
   "metadata": {},
   "source": [
    "String"
   ]
  },
  {
   "cell_type": "code",
   "execution_count": 39,
   "metadata": {},
   "outputs": [
    {
     "name": "stdout",
     "output_type": "stream",
     "text": [
      "Hello, World! \n",
      "Hello, World! \n",
      "Hello, World!\n",
      "['Hello', ' World! ']\n",
      "The lenght of string 'Hello, World! ' is  14\n"
     ]
    }
   ],
   "source": [
    "a= \"Hello, World! \"\n",
    "print(a);\n",
    "\n",
    "for i in a:\n",
    "    print(i,end='')\n",
    "\n",
    "print('')\n",
    "print(a.strip())\n",
    "\n",
    "print(a.split(','))\n",
    "\n",
    "print(f\"The lenght of string '{a}' is \",len(a))"
   ]
  },
  {
   "cell_type": "code",
   "execution_count": 31,
   "metadata": {},
   "outputs": [
    {
     "name": "stdout",
     "output_type": "stream",
     "text": [
      "M \n",
      "\n",
      "i \n",
      "\n",
      "d \n",
      "\n",
      "h \n",
      "\n",
      "u \n",
      "\n",
      "n \n",
      "\n"
     ]
    }
   ],
   "source": [
    "for i in \"Midhun\":\n",
    "    print(i,'\\n')"
   ]
  },
  {
   "cell_type": "code",
   "execution_count": 44,
   "metadata": {},
   "outputs": [
    {
     "name": "stdout",
     "output_type": "stream",
     "text": [
      "1234500000.000\n",
      "1,234,500,000\n"
     ]
    }
   ],
   "source": [
    "a=1234500000\n",
    "print(f'{a:.3f}')\n",
    "print(f'{a:,}')"
   ]
  },
  {
   "cell_type": "markdown",
   "metadata": {},
   "source": [
    "List"
   ]
  },
  {
   "cell_type": "code",
   "execution_count": 10,
   "metadata": {},
   "outputs": [
    {
     "name": "stdout",
     "output_type": "stream",
     "text": [
      "[3, 8, 7, 'Midhun', 1, 18, 'unni']\n",
      "the search completed, found at 6\n",
      "[3, 8, 7, 'Midhun', 1, 18, 'unni', 9]\n",
      "[3, 8, 7, 'MIDHUN', 'Midhun', 1, 18, 'unni', 9]\n",
      "[3, 8, 7, 'MIDHUN', 'Appu', 1, 18, 'unni', 9]\n",
      "[7, 3, 8]\n",
      "[5, 4, 3, 2, 1]\n"
     ]
    }
   ],
   "source": [
    "ls =[3,8,7,'Midhun',1,18,'unni']\n",
    "\n",
    "print(ls)\n",
    "\n",
    "name='unni'\n",
    "for i in ls:\n",
    "    if i==name:\n",
    "        print(\"the search completed, found at\",ls.index(name))\n",
    "        break;\n",
    "else:\n",
    "    print(f'{name} not found')\n",
    "\n",
    "\n",
    "ls.append(9)\n",
    "print(ls)\n",
    "\n",
    "ls.insert(3,'MIDHUN')\n",
    "print(ls)\n",
    "\n",
    "ls[4]='Appu'\n",
    "print(ls)\n",
    "\n",
    "ls.clear()\n",
    "\n",
    "ls[0:1]=[7,3,8]\n",
    "print(ls)\n",
    "\n",
    "\n",
    "lst = [1, 2, 3, 4, 5]\n",
    "lst.reverse()\n",
    "print(lst)\n"
   ]
  },
  {
   "cell_type": "markdown",
   "metadata": {},
   "source": [
    "# Data Frame"
   ]
  },
  {
   "cell_type": "code",
   "execution_count": 9,
   "metadata": {},
   "outputs": [
    {
     "ename": "ModuleNotFoundError",
     "evalue": "No module named 'pandas'",
     "output_type": "error",
     "traceback": [
      "\u001b[1;31m---------------------------------------------------------------------------\u001b[0m",
      "\u001b[1;31mModuleNotFoundError\u001b[0m                       Traceback (most recent call last)",
      "Cell \u001b[1;32mIn[9], line 1\u001b[0m\n\u001b[1;32m----> 1\u001b[0m \u001b[38;5;28;01mimport\u001b[39;00m \u001b[38;5;21;01mpandas\u001b[39;00m \u001b[38;5;28;01mas\u001b[39;00m \u001b[38;5;21;01mpd\u001b[39;00m\n\u001b[0;32m      3\u001b[0m data\u001b[38;5;241m=\u001b[39m{\n\u001b[0;32m      4\u001b[0m     \u001b[38;5;124m\"\u001b[39m\u001b[38;5;124mName\u001b[39m\u001b[38;5;124m\"\u001b[39m:[\u001b[38;5;124m\"\u001b[39m\u001b[38;5;124mMidhun\u001b[39m\u001b[38;5;124m\"\u001b[39m,\u001b[38;5;124m\"\u001b[39m\u001b[38;5;124mAppu\u001b[39m\u001b[38;5;124m\"\u001b[39m,\u001b[38;5;124m\"\u001b[39m\u001b[38;5;124mArun\u001b[39m\u001b[38;5;124m\"\u001b[39m,\u001b[38;5;124m\"\u001b[39m\u001b[38;5;124mSara\u001b[39m\u001b[38;5;124m\"\u001b[39m],\n\u001b[0;32m      5\u001b[0m     \u001b[38;5;124m\"\u001b[39m\u001b[38;5;124mAge\u001b[39m\u001b[38;5;124m\"\u001b[39m:[\u001b[38;5;241m20\u001b[39m,\u001b[38;5;241m21\u001b[39m,\u001b[38;5;241m22\u001b[39m,\u001b[38;5;241m23\u001b[39m],\n\u001b[0;32m      6\u001b[0m }\n\u001b[0;32m      8\u001b[0m df\u001b[38;5;241m=\u001b[39mpd\u001b[38;5;241m.\u001b[39mDataframe(data)\n",
      "\u001b[1;31mModuleNotFoundError\u001b[0m: No module named 'pandas'"
     ]
    }
   ],
   "source": [
    "import pandas as pd\n",
    "\n",
    "data={\n",
    "    \"Name\":[\"Midhun\",\"Appu\",\"Arun\",\"Sara\"],\n",
    "    \"Age\":[20,21,22,23],\n",
    "}\n",
    "\n",
    "df=pd.DataFrame(data)"
   ]
  },
  {
   "cell_type": "code",
   "execution_count": 11,
   "metadata": {},
   "outputs": [
    {
     "data": {
      "text/plain": [
       "{1: 8, 2: 9, 3: 10, 4: 11, 5: 12, 6: 13, 7: 14, 8: 15, 9: 16}"
      ]
     },
     "execution_count": 11,
     "metadata": {},
     "output_type": "execute_result"
    }
   ],
   "source": [
    "my_dict = {i:i+7 for i in range(1, 10)}\n",
    "my_dict"
   ]
  },
  {
   "cell_type": "code",
   "execution_count": 18,
   "metadata": {},
   "outputs": [
    {
     "name": "stdout",
     "output_type": "stream",
     "text": [
      "['Red', 'Blue', 'Green']\n",
      "['Red', 'Blue']\n",
      "['Red', 'Blue', 'Green']\n",
      "['Red', 'Blue', 'Green']\n"
     ]
    }
   ],
   "source": [
    "import copy\n",
    "\n",
    "class Car:\n",
    "    def __init__(self,name,color):\n",
    "        self.name=name\n",
    "        self.color=color\n",
    "\n",
    "honda_colours=[\"Red\", \"Blue\"]\n",
    "honda=Car(\"Honda\",honda_colours)\n",
    "\n",
    "deepcopy_honda=copy.deepcopy(honda)\n",
    "deepcopy_honda.color.append(\"Green\")\n",
    "print(deepcopy_honda.color)\n",
    "print(honda_colours)\n",
    "\n",
    "shallowcopy_honda=copy.copy(honda)\n",
    "shallowcopy_honda.color.append(\"Green\")\n",
    "print(shallowcopy_honda.color)\n",
    "print(honda_colours)"
   ]
  },
  {
   "cell_type": "markdown",
   "metadata": {},
   "source": [
    "# Walrus Operator"
   ]
  },
  {
   "cell_type": "code",
   "execution_count": 23,
   "metadata": {},
   "outputs": [
    {
     "name": "stdout",
     "output_type": "stream",
     "text": [
      "welcome, Appu\n"
     ]
    }
   ],
   "source": [
    "names=[\"Midhun\",\"Appu\",\"Rocky\"]\n",
    "\n",
    "if (name := input(\"enter name : \")) in names:\n",
    "    print(f\"welcome, {name}\")\n",
    "else:\n",
    "    print(f\"{name} not found in name\")"
   ]
  },
  {
   "cell_type": "code",
   "execution_count": 54,
   "metadata": {},
   "outputs": [
    {
     "name": "stdout",
     "output_type": "stream",
     "text": [
      "GOOD MORNING SACHIN\n"
     ]
    }
   ],
   "source": [
    "def upper_fun(fun):\n",
    "    def inner_fun(name):\n",
    "        return fun(name).upper()\n",
    "    return inner_fun\n",
    "\n",
    "@upper_fun\n",
    "def wish(name):\n",
    "    return f\"good morning {name}\"\n",
    "\n",
    "print(wish(\"sachin\"))"
   ]
  },
  {
   "cell_type": "code",
   "execution_count": 2,
   "metadata": {},
   "outputs": [
    {
     "data": {
      "text/plain": [
       "'GOOD MORNING MIDHUN'"
      ]
     },
     "execution_count": 2,
     "metadata": {},
     "output_type": "execute_result"
    }
   ],
   "source": [
    "def upper(fun):\n",
    "    def inner(name):\n",
    "        result=fun(name).upper()\n",
    "        return result\n",
    "    return inner\n",
    "@upper\n",
    "\n",
    "\n",
    "def wish(name):\n",
    "    return f\"Good Morning {name}\"\n",
    "\n",
    "wish(\"Midhun\")"
   ]
  },
  {
   "cell_type": "code",
   "execution_count": null,
   "metadata": {},
   "outputs": [],
   "source": []
  }
 ],
 "metadata": {
  "kernelspec": {
   "display_name": "Python 3",
   "language": "python",
   "name": "python3"
  },
  "language_info": {
   "codemirror_mode": {
    "name": "ipython",
    "version": 3
   },
   "file_extension": ".py",
   "mimetype": "text/x-python",
   "name": "python",
   "nbconvert_exporter": "python",
   "pygments_lexer": "ipython3",
   "version": "3.11.9"
  }
 },
 "nbformat": 4,
 "nbformat_minor": 2
}
