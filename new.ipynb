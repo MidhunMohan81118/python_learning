{
 "cells": [
  {
   "cell_type": "markdown",
   "metadata": {},
   "source": [
    "# String"
   ]
  },
  {
   "cell_type": "code",
   "execution_count": 14,
   "metadata": {},
   "outputs": [],
   "source": [
    "single_quote_str = 'Hello'\n",
    "double_quote_str = \"World\"\n",
    "triple_quote_str = \"\"\"This is a \n",
    "multiline string.\"\"\""
   ]
  },
  {
   "cell_type": "code",
   "execution_count": null,
   "metadata": {},
   "outputs": [],
   "source": [
    "str1 = \"Hello\"\n",
    "str2 = \"World\"\n",
    "result = str1 + \" \" + str2  # Output: \"Hello World\"\n",
    "\n",
    "words = [\"Hello\", \"World\"]\n",
    "result = \" \".join(words)  # Output: \"Hello World\"\n"
   ]
  },
  {
   "cell_type": "code",
   "execution_count": 13,
   "metadata": {},
   "outputs": [
    {
     "name": "stdout",
     "output_type": "stream",
     "text": [
      "1\n",
      "34\n",
      "0246\n",
      "34567\n",
      "01234\n",
      "0246\n"
     ]
    }
   ],
   "source": [
    "s='01234567'\n",
    "\n",
    "print(s[1])\n",
    "print(s[3:5])\n",
    "print(s[0:7:2])\n",
    "print(s[3:])\n",
    "print(s[:5])\n",
    "print(s[0:])"
   ]
  },
  {
   "cell_type": "code",
   "execution_count": 27,
   "metadata": {},
   "outputs": [
    {
     "name": "stdout",
     "output_type": "stream",
     "text": [
      "True\n",
      "False\n"
     ]
    }
   ],
   "source": [
    "#check if a string contains only digits\n",
    "s1 = \"12345\"\n",
    "s2 = \"123a5\"\n",
    "print(s1.isdigit())  # Output: True\n",
    "print(s2.isdigit())  # Output: False"
   ]
  },
  {
   "cell_type": "code",
   "execution_count": 28,
   "metadata": {},
   "outputs": [
    {
     "name": "stdout",
     "output_type": "stream",
     "text": [
      "True\n",
      "True\n",
      "False\n",
      "False\n"
     ]
    }
   ],
   "source": [
    "s = \"Hello, World!\"\n",
    "print(s.startswith(\"Hello\"))  # Output: True\n",
    "print(s.endswith(\"!\"))        # Output: True\n",
    "print(s.startswith(\"World\"))  # Output: False\n",
    "print(s.endswith(\"World\"))    # Output: False\n"
   ]
  },
  {
   "cell_type": "code",
   "execution_count": 29,
   "metadata": {},
   "outputs": [
    {
     "name": "stdout",
     "output_type": "stream",
     "text": [
      "['apple', 'banana', 'cherry']\n",
      "['Hello', 'World', 'Python']\n"
     ]
    }
   ],
   "source": [
    "s = \"apple,banana,cherry\"\n",
    "fruits = s.split(\",\")\n",
    "print(fruits)  # Output: ['apple', 'banana', 'cherry']\n",
    "\n",
    "# Splitting by whitespace\n",
    "s2 = \"Hello World Python\"\n",
    "words = s2.split()\n",
    "print(words)  # Output: ['Hello', 'World', 'Python']\n"
   ]
  },
  {
   "cell_type": "code",
   "execution_count": 30,
   "metadata": {},
   "outputs": [
    {
     "name": "stdout",
     "output_type": "stream",
     "text": [
      "apple, banana, cherry\n",
      "applebananacherry\n"
     ]
    }
   ],
   "source": [
    "fruits = ['apple', 'banana', 'cherry']\n",
    "s = \", \".join(fruits)\n",
    "print(s)  # Output: \"apple, banana, cherry\"\n",
    "\n",
    "# Using no separator\n",
    "s2 = \"\".join(fruits)\n",
    "print(s2)  # Output: \"applebananacherry\"\n"
   ]
  },
  {
   "cell_type": "code",
   "execution_count": 54,
   "metadata": {},
   "outputs": [
    {
     "name": "stdout",
     "output_type": "stream",
     "text": [
      "Hello, World!\n",
      "Hello, World!   \n",
      "   Hello, World!\n",
      "Hello, World!\n",
      "Hello, World!###\n",
      "###Hello, World!\n"
     ]
    }
   ],
   "source": [
    "# remove leading and trailing whitespace from a string\n",
    "s = \"   Hello, World!   \"\n",
    "print(s.strip())   # Output: \"Hello, World!\"\n",
    "print(s.lstrip())  # Output: \"Hello, World!   \"\n",
    "print(s.rstrip())  # Output: \"   Hello, World!\"\n",
    "\n",
    "s = \"###Hello, World!###\"\n",
    "print(s.strip('#'))  # Output: \"Hello, World!\"\n",
    "print(s.lstrip('#')) # Output: \"Hello, World!###\"\n",
    "print(s.rstrip('#')) # Output: \"###Hello, World!\"\n"
   ]
  },
  {
   "cell_type": "code",
   "execution_count": 32,
   "metadata": {},
   "outputs": [
    {
     "name": "stdout",
     "output_type": "stream",
     "text": [
      "7\n",
      "-1\n",
      "7\n"
     ]
    }
   ],
   "source": [
    "s = \"Hello, World!\"\n",
    "print(s.find(\"World\"))  # Output: 7\n",
    "print(s.find(\"Python\")) # Output: -1\n",
    "\n",
    "print(s.index(\"World\"))  # Output: 7\n",
    "# print(s.index(\"Python\"))  # Raises ValueError: substring not found\n"
   ]
  },
  {
   "cell_type": "code",
   "execution_count": 61,
   "metadata": {},
   "outputs": [
    {
     "name": "stdout",
     "output_type": "stream",
     "text": [
      "Value: 3.14\n",
      "123,456,789\n",
      "123456789.00\n",
      "'     Alice'\n",
      "'Alice     '\n",
      "Value: 3.14\n",
      "00042\n"
     ]
    }
   ],
   "source": [
    "value = 3.1415926535\n",
    "formatted = f\"Value: {value:.2f}\"  # Two decimal places\n",
    "print(formatted)  # Output: \"Value: 3.14\"\n",
    "\n",
    "n=123456789\n",
    "print(f\"{n:,}\")\n",
    "print(f\"{n:.2f}\")\n",
    "\n",
    "# Padding with spaces\n",
    "name = \"Alice\"\n",
    "formatted = f\"{name:>10}\"  # Right-align with width 10\n",
    "print(f\"'{formatted}'\")  # Output: \"'     Alice'\"\n",
    "formatted = f\"{name:<10}\"  # left-align with width 10\n",
    "print(f\"'{formatted}'\")  # Output: \"'Alice     '\"\n",
    "\n",
    "value = 3.1415926535\n",
    "formatted = \"Value: {:.2f}\".format(value)\n",
    "print(formatted)  # Output: \"Value: 3.14\"\n",
    "\n",
    "number = 42\n",
    "formatted = f\"{number:05}\"  # Pads with zeros to make length 5\n",
    "print(formatted)  # Output: \"00042\"\n"
   ]
  },
  {
   "cell_type": "code",
   "execution_count": 52,
   "metadata": {},
   "outputs": [
    {
     "name": "stdout",
     "output_type": "stream",
     "text": [
      "True\n",
      "False\n",
      "False\n"
     ]
    }
   ],
   "source": [
    "s1 = \"HELLO\"\n",
    "s2 = \"Hello\"\n",
    "s3 = \"123!\"\n",
    "\n",
    "print(s1.isupper())  # Output: True\n",
    "print(s2.isupper())  # Output: False\n",
    "print(s3.isupper())  # Output: False"
   ]
  },
  {
   "cell_type": "code",
   "execution_count": 53,
   "metadata": {},
   "outputs": [
    {
     "name": "stdout",
     "output_type": "stream",
     "text": [
      "Hell, Wrld!\n"
     ]
    }
   ],
   "source": [
    "s = \"Hello, World!\"\n",
    "new_s = s.replace(\"o\", \"\")\n",
    "print(new_s)  # Output: \"Hell, Wrld!\"\n"
   ]
  },
  {
   "cell_type": "code",
   "execution_count": 62,
   "metadata": {},
   "outputs": [
    {
     "name": "stdout",
     "output_type": "stream",
     "text": [
      "progamin\n"
     ]
    }
   ],
   "source": [
    "# Finding Unique words\n",
    "s = \"programming\"\n",
    "\n",
    "unq=[]\n",
    "for i in s:\n",
    "  if i not in unq:\n",
    "    unq.append(i)\n",
    "  else:\n",
    "    continue\n",
    "print(\"\".join(unq))"
   ]
  },
  {
   "cell_type": "code",
   "execution_count": 26,
   "metadata": {},
   "outputs": [
    {
     "name": "stdout",
     "output_type": "stream",
     "text": [
      "nuhdiM olleH\n",
      "nuhdiM olleH\n",
      "vaikom from Midhun am i Hi\n"
     ]
    }
   ],
   "source": [
    "# Reverse\n",
    "s = \"Hello Midhun\"\n",
    "\n",
    "print(s[::-1])\n",
    "rs=''\n",
    "for i in s:\n",
    "    rs=i+rs\n",
    "print(rs)\n",
    "\n",
    "#########################\n",
    "s=\"Hi i am Midhun from vaikom\"\n",
    "ss=s.split()\n",
    "l=[]\n",
    "\n",
    "for i in range(len(ss)):\n",
    "    l.append(ss.pop())\n",
    "rs=\" \".join(l)\n",
    "print(rs)"
   ]
  },
  {
   "cell_type": "code",
   "execution_count": 4,
   "metadata": {},
   "outputs": [
    {
     "name": "stdout",
     "output_type": "stream",
     "text": [
      "True\n",
      "False\n",
      "racecar is a palindrome\n"
     ]
    }
   ],
   "source": [
    "def is_palindrome(s):\n",
    "    s = s.lower().replace(\" \", \"\")  # Optional: Normalize the string\n",
    "    return s == s[::-1]\n",
    "\n",
    "print(is_palindrome(\"Racecar\"))  # Output: True\n",
    "print(is_palindrome(\"Hello\"))    # Output: False\n",
    "\n",
    "###################################\n",
    "s='Racecar'\n",
    "s=s.lower()\n",
    "f=0\n",
    "for i in range(len(s)):\n",
    "    if s[i]==s[-i-1]:\n",
    "        f=0\n",
    "    else:\n",
    "        f+=1\n",
    "if  f==0:\n",
    "    print(s,\"is a palindrome\")\n",
    "else:\n",
    "    print(s,\"is not a palindrome\")\n"
   ]
  },
  {
   "cell_type": "code",
   "execution_count": 37,
   "metadata": {},
   "outputs": [
    {
     "name": "stdout",
     "output_type": "stream",
     "text": [
      "Hll Mdhn\n",
      "Hll, Wrld!\n"
     ]
    }
   ],
   "source": [
    "# Removing vowels\n",
    "vowels=\"aeiouAEIOU\"\n",
    "s=\"Hello Midhun\"\n",
    "l=[]\n",
    "for i in s:\n",
    "    if i not in vowels:\n",
    "        l.append(i)\n",
    "print(\"\".join(l))\n",
    "\n",
    "def remove_vowels(s):\n",
    "    vowels = \"aeiouAEIOU\"\n",
    "    return ''.join([char for char in s if char not in vowels])\n",
    "\n",
    "print(remove_vowels(\"Hello, World!\"))  # Output: \"Hll, Wrld!\"\n"
   ]
  },
  {
   "cell_type": "code",
   "execution_count": 51,
   "metadata": {},
   "outputs": [
    {
     "name": "stdout",
     "output_type": "stream",
     "text": [
      "['e', 'i', 'l', 'n', 's', 't']\n",
      "True\n",
      "['e', 'h', 'l', 'l', 'o']\n",
      "False\n"
     ]
    }
   ],
   "source": [
    "# check if two strings are anagrams\n",
    "\n",
    "def are_anagrams(s1, s2):\n",
    "    return sorted(s1.replace(\" \", \"\").lower()) == sorted(s2.replace(\" \", \"\").lower())\n",
    "\n",
    "print(are_anagrams(\"Listen\", \"Silent\"))  # Output: True\n",
    "print(are_anagrams(\"Hello\", \"World\"))    # Output: False\n"
   ]
  },
  {
   "cell_type": "code",
   "execution_count": 49,
   "metadata": {},
   "outputs": [
    {
     "name": "stdout",
     "output_type": "stream",
     "text": [
      "['support@example.com', 'sales@example.org', 'midhun.m@gamail.inc']\n"
     ]
    }
   ],
   "source": [
    "###########3 Regular Expression\n",
    "\n",
    "text = \"Please contact us at support@example.com or sales@example.org. or midhun.m@gamail.inc\"\n",
    "\n",
    "import re\n",
    "\n",
    "email=re.findall(r'[\\w\\.-;]+@[\\w\\.-]+\\.\\w+',text)\n",
    "print(email)"
   ]
  },
  {
   "cell_type": "markdown",
   "metadata": {},
   "source": [
    "# Dictionary"
   ]
  },
  {
   "cell_type": "code",
   "execution_count": 33,
   "metadata": {},
   "outputs": [
    {
     "name": "stdout",
     "output_type": "stream",
     "text": [
      "{'name': 'John', 'age': 25, 'city': 'New York'}\n",
      "\n",
      "Using keyword arguments {'name': 'John', 'age': 25, 'city': 'New York'}\n",
      "Using a list of tuples {'name': 'John', 'age': 25, 'city': 'New York'}\n",
      "Creating dictionary with default values {'a': 0, 'b': 0, 'c': 0}\n",
      "{0: 0, 1: 1, 2: 4, 3: 9, 4: 16}\n",
      "{'name': 'John', 'age': 25, 'city': 'New York'}\n",
      "{'name': 'John', 'age': 25, 'city': 'New York'}\n"
     ]
    }
   ],
   "source": [
    "my_dict = {\n",
    "    'name': 'John',\n",
    "    'age': 25,\n",
    "    'city': 'New York'\n",
    "}\n",
    "print(my_dict)\n",
    "\n",
    "print()\n",
    "\n",
    "# Using keyword arguments\n",
    "my_dict = dict(name='John', age=25, city='New York')\n",
    "print(\"Using keyword arguments\",my_dict)\n",
    "\n",
    "\n",
    "# Using a list of tuples\n",
    "my_dict = dict([('name', 'John'), ('age', 25), ('city', 'New York')])\n",
    "print(\"Using a list of tuples\",my_dict)\n",
    "\n",
    "# Creating dictionary with default values\n",
    "keys = ['a', 'b', 'c']\n",
    "my_dict = dict.fromkeys(keys, 0)  # All keys have value 0\n",
    "print(\"Creating dictionary with default values\",my_dict)\n",
    "\n",
    "# Example: Creating a dictionary of squares\n",
    "my_dict = {x: x**2 for x in range(5)}\n",
    "print(my_dict)\n",
    "\n",
    "# Creating an empty dictionary\n",
    "my_dict = {}\n",
    "\n",
    "# Adding key-value pairs\n",
    "my_dict['name'] = 'John'\n",
    "my_dict['age'] = 25\n",
    "my_dict['city'] = 'New York'\n",
    "\n",
    "print(my_dict)\n",
    "\n",
    "\n",
    "#Using zip() to Create a Dictionary\n",
    "keys = ['name', 'age', 'city']\n",
    "values = ['John', 25, 'New York']\n",
    "\n",
    "my_dict = dict(zip(keys, values))\n",
    "print(my_dict)\n"
   ]
  },
  {
   "cell_type": "code",
   "execution_count": 266,
   "metadata": {},
   "outputs": [
    {
     "name": "stdout",
     "output_type": "stream",
     "text": [
      "Alice\n",
      "Math\n"
     ]
    }
   ],
   "source": [
    "# Creating a dictionary\n",
    "student = {\n",
    "    \"name\": \"Alice\",\n",
    "    \"age\": 25,\n",
    "    \"courses\": [\"Math\", \"Science\"]\n",
    "}\n",
    "\n",
    "# Accessing values\n",
    "print(student[\"name\"])  # Output: Alice\n",
    "\n",
    "# Adding a new key-value pair\n",
    "student[\"grade\"] = \"A\"\n",
    "\n",
    "# Modifying a value\n",
    "student[\"age\"] = 26\n",
    "\n",
    "# Cousre\n",
    "print(student[\"courses\"][0])\n",
    "\n",
    "# Deleting a key-value pair\n",
    "del student[\"courses\"]"
   ]
  },
  {
   "cell_type": "code",
   "execution_count": 5,
   "metadata": {},
   "outputs": [
    {
     "name": "stdout",
     "output_type": "stream",
     "text": [
      "name\n",
      "age\n",
      "city\n",
      "\n",
      "John\n",
      "30\n",
      "New York\n",
      "\n",
      "{'NAME': 'John', 'AGE': 30, 'CITY': 'New York'}\n"
     ]
    }
   ],
   "source": [
    "person = {\"name\": \"John\", \"age\": 30, \"city\": \"New York\"}\n",
    "\n",
    "#printing Keys\n",
    "for key in person:\n",
    "    print(key)\n",
    "print()\n",
    "\n",
    "#printing values\n",
    "for v in person.values():\n",
    "    print(v)\n",
    "print()\n",
    "\n",
    "d={k.upper():v for k,v in person.items()}\n",
    "print(d)"
   ]
  },
  {
   "cell_type": "code",
   "execution_count": 272,
   "metadata": {},
   "outputs": [
    {
     "name": "stdout",
     "output_type": "stream",
     "text": [
      "John\n",
      "Not Available\n",
      "dict_keys(['name', 'age'])\n",
      "dict_values(['John', 30])\n",
      "dict_items([('name', 'John'), ('age', 30)])\n",
      "{'name': 'John', 'age': 31, 'city': 'New York'}\n",
      "31\n",
      "{'name': 'John', 'city': 'New York'}\n",
      "('city', 'New York')\n",
      "{'name': 'John'}\n",
      "Los Angeles\n",
      "{'name': 'John', 'city': 'Los Angeles'}\n",
      "{'name': 'John', 'city': 'Los Angeles'}\n",
      "{}\n"
     ]
    }
   ],
   "source": [
    "person = {\"name\": \"John\", \"age\": 30}\n",
    "\n",
    "# get\n",
    "print(person.get(\"name\"))  # Output: John\n",
    "print(person.get(\"address\", \"Not Available\"))  # Output: Not Available\n",
    "\n",
    "# keys\n",
    "print(person.keys())  # Output: dict_keys(['name', 'age'])\n",
    "\n",
    "# values\n",
    "print(person.values())  # Output: dict_values(['John', 30])\n",
    "\n",
    "# items\n",
    "print(person.items())  # Output: dict_items([('name', 'John'), ('age', 30)])\n",
    "\n",
    "# update\n",
    "person.update({\"age\": 31, \"city\": \"New York\"})\n",
    "print(person)\n",
    "# Output: {'name': 'John', 'age': 31, 'city': 'New York'}\n",
    "\n",
    "# pop\n",
    "age = person.pop(\"age\")\n",
    "print(age)     # Output: 31\n",
    "print(person)  # Output: {'name': 'John', 'city': 'New York'}\n",
    "\n",
    "# popitem\n",
    "item = person.popitem()\n",
    "print(item)    # Output: ('city', 'New York')\n",
    "print(person)  # Output: {'name': 'John'}\n",
    "\n",
    "# setdefault\n",
    "city = person.setdefault(\"city\", \"Los Angeles\")\n",
    "print(city)    # Output: Los Angeles\n",
    "print(person)  # Output: {'name': 'John', 'city': 'Los Angeles'}\n",
    "\n",
    "# copy\n",
    "person_copy = person.copy()\n",
    "print(person_copy)  # Output: {'name': 'John', 'city': 'Los Angeles'}\n",
    "\n",
    "# clear\n",
    "person.clear()\n",
    "print(person)  # Output: {}"
   ]
  },
  {
   "cell_type": "code",
   "execution_count": null,
   "metadata": {},
   "outputs": [],
   "source": [
    "#### Merging of dictionary\n",
    "\n",
    "dict1 = {\"a\": 1, \"b\": 2}\n",
    "dict2 = {\"b\": 3, \"c\": 4}\n",
    "\n",
    "dict1.update(dict2)\n",
    "print(dict1)\n",
    "# Output: {'a': 1, 'b': 3, 'c': 4}\n",
    "\n",
    "\n",
    "merged_dict = {**dict1, **dict2}\n",
    "print(merged_dict)\n",
    "\n",
    "merged_dict = dict1 | dict2\n",
    "print(merged_dict)"
   ]
  },
  {
   "cell_type": "code",
   "execution_count": 31,
   "metadata": {},
   "outputs": [
    {
     "name": "stdout",
     "output_type": "stream",
     "text": [
      "{'name': 'Alice', 'age': 30, 'city': 'New York'}\n",
      "\n",
      "True\n",
      "age is 30\n",
      "\n",
      "name Alice\n",
      "age 30\n",
      "city New York\n",
      "\n",
      "{'a': 1, 'b': 2, 'c': 3, 'd': 4}\n",
      "{'a': 1, 'b': 2}\n",
      "\n",
      "{'b': 1, 'c': 2, 'a': 3}\n"
     ]
    }
   ],
   "source": [
    "my_dict = {\"name\": \"Alice\", \"age\": 30}\n",
    "\n",
    "#adding element to dictionary\n",
    "my_dict[\"city\"] = \"New York\"\n",
    "print(my_dict)\n",
    "print()  \n",
    "\n",
    "#Checking presence of a key\n",
    "print(\"city\" in my_dict)\n",
    "if \"age\" in my_dict:\n",
    "    print(\"age is\", my_dict[\"age\"])\n",
    "print()\n",
    "\n",
    "#iterate over a dictionary\n",
    "for key, value in my_dict.items():\n",
    "    print(key,value)\n",
    "print()\n",
    "\n",
    "#merge two dictionaries\n",
    "dict1 = {\"a\": 1, \"b\": 2}\n",
    "dict2 = {\"c\": 3, \"d\": 4}\n",
    "dict1.update(dict2)\n",
    "print(dict1)\n",
    "\n",
    "\n",
    "#Creating Dictionary from list\n",
    "my_list = [(\"a\", 1), (\"b\", 2)]\n",
    "my_dict_list = dict(my_list)\n",
    "print(my_dict_list)\n",
    "print()\n",
    "\n",
    "#Sorting values of a dictionary\n",
    "my_dict_new={\"a\": 3, \"b\": 1, \"c\": 2}\n",
    "need=lambda x:x[1]\n",
    "sorted_dict = dict(sorted(my_dict_new.items(),key=need))\n",
    "print(sorted_dict)"
   ]
  },
  {
   "cell_type": "code",
   "execution_count": 34,
   "metadata": {},
   "outputs": [
    {
     "data": {
      "text/plain": [
       "{'a': 1, 'b': 2}"
      ]
     },
     "execution_count": 34,
     "metadata": {},
     "output_type": "execute_result"
    }
   ],
   "source": [
    "d = {'a': 1}\n",
    "d.get('b', 2)  # Returns 2 but does not modify the dictionary\n",
    "d.setdefault('b', 2)  # Returns 2 and adds 'b': 2 to the dictionary\n",
    "d\n",
    "\n",
    "\n",
    "# d = {'a': 1, 'b': 2}\n",
    "# # d['c']  # Raises KeyError\n",
    "# d.get('c')  # Returns None\n",
    "# d.get('c', 0)  # Returns 0"
   ]
  },
  {
   "cell_type": "code",
   "execution_count": 37,
   "metadata": {},
   "outputs": [
    {
     "name": "stdout",
     "output_type": "stream",
     "text": [
      "c\n",
      "b\n",
      "a\n"
     ]
    }
   ],
   "source": [
    "# iterate over a dictionary in reverse order\n",
    "d = {'a': 1, 'b': 2, 'c': 3}\n",
    "for key in reversed(list(d.keys())):\n",
    "    print(key)"
   ]
  },
  {
   "cell_type": "markdown",
   "metadata": {},
   "source": [
    "# Functional Programming with Dictionaries"
   ]
  },
  {
   "cell_type": "code",
   "execution_count": 6,
   "metadata": {},
   "outputs": [
    {
     "name": "stdout",
     "output_type": "stream",
     "text": [
      "{'a': 2, 'b': 4, 'c': 6, 'd': 24, 'e': 30}\n",
      "{'a': 2, 'b': 4, 'c': 6, 'd': 24, 'e': 30}\n",
      "{'d': 12, 'e': 15}\n"
     ]
    }
   ],
   "source": [
    "d = {'a': 1, 'b': 2, 'c': 3, 'd':12, 'e':15}\n",
    "\n",
    "mapped_dict = {k: v * 2 for k, v in map(lambda x: (x[0], x[1]), d.items())}\n",
    "print(mapped_dict)\n",
    "di={k:v*2 for k,v in d.items()}\n",
    "print(di)\n",
    "\n",
    "filtered_dict = {k: v for k, v in d.items() if v > 10}\n",
    "print(filtered_dict)"
   ]
  },
  {
   "cell_type": "markdown",
   "metadata": {},
   "source": [
    "# Reverse of a dictionary (swap keys and values)"
   ]
  },
  {
   "cell_type": "code",
   "execution_count": 8,
   "metadata": {},
   "outputs": [
    {
     "name": "stdout",
     "output_type": "stream",
     "text": [
      "{1: 'a', 2: 'b', 3: 'c'}\n"
     ]
    }
   ],
   "source": [
    "d = {'a': 1, 'b': 2, 'c': 3, 'a':1}\n",
    "reversed_dict = {v: k for k, v in d.items()}\n",
    "print(reversed_dict)  # Outputs: {1: 'a', 2: 'b', 3: 'c'}"
   ]
  },
  {
   "cell_type": "code",
   "execution_count": 40,
   "metadata": {},
   "outputs": [
    {
     "name": "stdout",
     "output_type": "stream",
     "text": [
      "{1: ['a', 'b'], 3: ['c', 'e'], 5: ['d']}\n",
      "{1: ['a', 'b'], 3: ['c', 'e'], 5: ['d']}\n",
      "{1: ['a', 'b'], 3: ['c', 'e'], 5: ['d']}\n"
     ]
    }
   ],
   "source": [
    "# Group by Key and Sum Values\n",
    "input_dict = {'a': 1, 'b': 1, 'c': 3, 'd': 5, 'e': 3}\n",
    "output_dict = {}\n",
    "\n",
    "for key, value in input_dict.items():\n",
    "    if value in output_dict:\n",
    "        output_dict[value].append(key)\n",
    "    else:\n",
    "        output_dict[value] = [key]\n",
    "\n",
    "print(output_dict)\n",
    "\n",
    "\n",
    "#alternative way\n",
    "input_dict1 = {'a': 1, 'b': 1, 'c': 3, 'd': 5, 'e': 3}\n",
    "output_dict1={}\n",
    "for key, value in input_dict1.items():\n",
    "    # Use setdefault to initialize an empty list if the value doesn't exist\n",
    "    output_dict1.setdefault(value, []).append(key)\n",
    "\n",
    "print(output_dict1)\n",
    "\n",
    "output_dict = {value: [key for key in input_dict if input_dict[key] == value] for value in set(input_dict.values())}\n",
    "print(output_dict)\n"
   ]
  },
  {
   "cell_type": "code",
   "execution_count": 262,
   "metadata": {},
   "outputs": [
    {
     "name": "stdout",
     "output_type": "stream",
     "text": [
      "{'a': 1, 'b': 2, 'c': 3, 'd': 5, 'e': 3}\n"
     ]
    }
   ],
   "source": [
    "s='abbcccdddddeee'\n",
    "ds={}\n",
    "for i in s:\n",
    "    if i not in ds:\n",
    "        ds[i]=s.count(i)\n",
    "    else:\n",
    "        continue\n",
    "print(ds)"
   ]
  },
  {
   "cell_type": "code",
   "execution_count": 273,
   "metadata": {},
   "outputs": [
    {
     "name": "stdout",
     "output_type": "stream",
     "text": [
      "{'a': 9, 'b': 12}\n"
     ]
    }
   ],
   "source": [
    "# Dictionary with Multiple Keys for the Same Value\n",
    "\n",
    "input_list = [{'a': 1, 'b': 2}, {'a': 3, 'b': 4}, {'a': 5, 'b': 6}]\n",
    "\n",
    "out={}\n",
    "for i in input_list:\n",
    "    for key,value in i.items():\n",
    "        out[key]=out.get(key,0)+value\n",
    "print(out)"
   ]
  },
  {
   "cell_type": "code",
   "execution_count": 12,
   "metadata": {},
   "outputs": [
    {
     "data": {
      "text/plain": [
       "{'a': [1, 3, 5], 'b': [2, 4, 6]}"
      ]
     },
     "execution_count": 12,
     "metadata": {},
     "output_type": "execute_result"
    }
   ],
   "source": [
    "input_list = [{'a': 1, 'b': 2}, {'a': 3, 'b': 4}, {'a': 5, 'b': 6}]\n",
    "\n",
    "out={}\n",
    "\n",
    "for item in input_list:\n",
    "    for k,v in item.items():\n",
    "        if k not in out:\n",
    "            out[k]=[]\n",
    "            out[k].append(v)\n",
    "        else:\n",
    "            out[k].append(v)\n",
    "\n",
    "out"
   ]
  },
  {
   "cell_type": "code",
   "execution_count": 14,
   "metadata": {},
   "outputs": [
    {
     "data": {
      "text/plain": [
       "126"
      ]
     },
     "execution_count": 14,
     "metadata": {},
     "output_type": "execute_result"
    }
   ],
   "source": [
    "l=[i for i in range(20)]\n",
    "s=list(map(lambda x:x*2,l))\n",
    "f=list(filter(lambda x:x%3==0,s))\n",
    "from functools import reduce\n",
    "sf=reduce(lambda x,y:x+y,f)\n",
    "sf"
   ]
  },
  {
   "cell_type": "code",
   "execution_count": 142,
   "metadata": {},
   "outputs": [
    {
     "name": "stdout",
     "output_type": "stream",
     "text": [
      "c\n",
      "{'b': 20, 'c': 30}\n"
     ]
    }
   ],
   "source": [
    "input_dict = {'a': 10, 'b': 20, 'c': 30}\n",
    "max_key = max(input_dict, key=input_dict.get)\n",
    "print(max_key)\n",
    "\n",
    "# removing key with minimum value\n",
    "min_key = min(input_dict, key=input_dict.get)\n",
    "input_dict.pop(min_key)\n",
    "print(input_dict)"
   ]
  },
  {
   "cell_type": "markdown",
   "metadata": {},
   "source": [
    "# Sorting of Dictionary"
   ]
  },
  {
   "cell_type": "code",
   "execution_count": 255,
   "metadata": {},
   "outputs": [
    {
     "name": "stdout",
     "output_type": "stream",
     "text": [
      "{'b': 1, 'c': 3, 'a': 5, 'z': 7, 'i': 10, 'm': 11}\n",
      "{'b': 1, 'c': 3, 'a': 5, 'z': 7, 'i': 10, 'm': 11}\n",
      "{'a': 5, 'b': 1, 'c': 3, 'i': 10, 'm': 11, 'z': 7}\n",
      "{'m': 11, 'i': 10, 'z': 7, 'a': 5, 'c': 3, 'b': 1}\n"
     ]
    }
   ],
   "source": [
    "input_dict = {'i':10,'a': 5, 'b': 1, 'c': 3,'z':7,'m':11}\n",
    "\n",
    "# to sort based on key ->x[1]\n",
    "out = dict(sorted(input_dict.items(),key=lambda x:x[1]))\n",
    "print(out)\n",
    "\n",
    "# to sort based on value ->x[0]\n",
    "out = dict(sorted(input_dict.items(),key=lambda x:x[0]))\n",
    "print(out)\n",
    "\n",
    "out = dict(sorted(input_dict.items(),key=lambda x:x[1],reverse=True))\n",
    "print(out)"
   ]
  },
  {
   "cell_type": "markdown",
   "metadata": {},
   "source": [
    "# Min & Max"
   ]
  },
  {
   "cell_type": "code",
   "execution_count": 277,
   "metadata": {},
   "outputs": [
    {
     "name": "stdout",
     "output_type": "stream",
     "text": [
      "90\n",
      "78\n",
      "Bob\n",
      "Charlie\n",
      "#############\n",
      "cherry\n",
      "apple\n"
     ]
    }
   ],
   "source": [
    "scores = {\"Alice\": 85, \"Bob\": 90, \"Charlie\": 78}\n",
    "\n",
    "# Maximum score\n",
    "max_score = max(scores.values())\n",
    "print(max_score)  # Output: 90\n",
    "\n",
    "# Minimum score\n",
    "min_score = min(scores.values())\n",
    "print(min_score)  # Output: 78\n",
    "\n",
    "# Finding the key with the maximum score\n",
    "max_scorer = max(scores, key=scores.get)\n",
    "print(max_scorer)  # Output: Bob\n",
    "\n",
    "# Finding the key with the minimum score\n",
    "min_scorer = min(scores, key=scores.get)\n",
    "print(min_scorer)  # Output: Charlie\n",
    "\n",
    "print('#############')\n",
    "\n",
    "data = {\"apple\": 5, \"banana\": 2, \"cherry\": 7}\n",
    "\n",
    "# Maximum key (alphabetically)\n",
    "max_key = max(data.keys())\n",
    "print(max_key)  # Output: cherry\n",
    "\n",
    "# Minimum key (alphabetically)\n",
    "min_key = min(data.keys())\n",
    "print(min_key)  # Output: apple\n"
   ]
  },
  {
   "cell_type": "markdown",
   "metadata": {},
   "source": [
    "# Collection"
   ]
  },
  {
   "cell_type": "code",
   "execution_count": 241,
   "metadata": {},
   "outputs": [
    {
     "name": "stdout",
     "output_type": "stream",
     "text": [
      "Counter({'a': 5, 'b': 2, 'r': 2, 'c': 1, 'd': 1})\n",
      "{'a': 5, 'b': 2, 'r': 2, 'c': 1, 'd': 1}\n"
     ]
    }
   ],
   "source": [
    "from collections import Counter\n",
    "counts = Counter('abracadabra')\n",
    "print(counts)  # Outputs: {'a': 5, 'b': 2, 'r': 2, 'c': 1, 'd': 1}\n",
    "\n",
    "\n",
    "c='abracadabra'\n",
    "out={}\n",
    "for i in c:\n",
    "    out[i]=c.count(i)\n",
    "print(out)"
   ]
  },
  {
   "cell_type": "code",
   "execution_count": 247,
   "metadata": {},
   "outputs": [
    {
     "name": "stdout",
     "output_type": "stream",
     "text": [
      "{5000: ['Alice', 'Eve'], 7000: ['Bob']}\n"
     ]
    },
    {
     "data": {
      "text/plain": [
       "{5000: ['Alice', 'Eve'], 7000: ['Bob']}"
      ]
     },
     "execution_count": 247,
     "metadata": {},
     "output_type": "execute_result"
    }
   ],
   "source": [
    "employees = [(\"Alice\", 5000), (\"Bob\", 7000), (\"Eve\", 5000)]\n",
    "salary_dict = {salary: [emp for emp, sal in employees if sal == salary] for salary in set(sal for _, sal in employees)}\n",
    "print(salary_dict)\n",
    "\n",
    "######################\n",
    "emp=dict(employees)\n",
    "sal={}\n",
    "for k,v in emp.items():\n",
    "    if v not in sal:\n",
    "        sal[v]=[]\n",
    "        sal[v].append(k)\n",
    "    else:\n",
    "        sal[v].append(k)\n",
    "sal"
   ]
  },
  {
   "cell_type": "code",
   "execution_count": 27,
   "metadata": {},
   "outputs": [
    {
     "name": "stdout",
     "output_type": "stream",
     "text": [
      "{'a': 1, 'b': 2, 'c': 3}\n"
     ]
    }
   ],
   "source": [
    "data = [{'a': 1}, {'b': 2}, {'c': 3}]\n",
    "result = {k: v for d in data for k, v in d.items()}\n",
    "print(result)"
   ]
  },
  {
   "cell_type": "code",
   "execution_count": 278,
   "metadata": {},
   "outputs": [
    {
     "name": "stdout",
     "output_type": "stream",
     "text": [
      "{'group1_a': 1, 'group1_b': 2, 'group2_c': 3, 'group2_d': 4}\n",
      "{'group1_a': 1, 'group1_b': 2, 'group2_c': 3, 'group2_d': 4}\n"
     ]
    }
   ],
   "source": [
    "nested_dict = {'group1': {'a': 1, 'b': 2}, 'group2': {'c': 3, 'd': 4}}\n",
    "d={}\n",
    "t=[]\n",
    "l=[]\n",
    "for g,i in nested_dict.items():\n",
    "    for k,v in i.items():\n",
    "       t.append(f'{g}_{k}') \n",
    "       l.append(v)\n",
    "d=dict(zip(t,l))\n",
    "print(d)\n",
    "\n",
    "do={f'{g}_{k}':v for g,s in nested_dict.items() for k,v in s.items()}\n",
    "print(do)"
   ]
  },
  {
   "cell_type": "code",
   "execution_count": 279,
   "metadata": {},
   "outputs": [
    {
     "name": "stdout",
     "output_type": "stream",
     "text": [
      "{'Alice': 'pass', 'Bob': 'fail', 'Charlie': 'pass', 'David': 'fail'}\n"
     ]
    }
   ],
   "source": [
    "scores = {'Alice': 85, 'Bob': 72, 'Charlie': 90, 'David': 60}\n",
    "\n",
    "so={n:\"pass\" if m >75 else \"fail\" for n,m in scores.items() }\n",
    "print(so)"
   ]
  },
  {
   "cell_type": "code",
   "execution_count": 280,
   "metadata": {},
   "outputs": [
    {
     "name": "stdout",
     "output_type": "stream",
     "text": [
      "{'b': 2}\n",
      "{'b': 2}\n"
     ]
    }
   ],
   "source": [
    "###################### Intersection or common \n",
    "dict1 = {'a': 1, 'b': 2, 'c': 3}\n",
    "dict2 = {'b': 2, 'c': 4, 'd': 5}\n",
    "\n",
    "# Intersection based on key and value\n",
    "intersection = {k: dict1[k] for k in dict1 if k in dict2 and dict1[k] == dict2[k]}\n",
    "print(intersection)\n",
    "# Output: {'b': 2}\n",
    "\n",
    "intersection = dict1.items() & dict2.items()\n",
    "print(dict(intersection))\n",
    "\n",
    "############### Union of Dictionary\n",
    "\n",
    "# Create a copy to preserve dict1\n",
    "union = dict1.copy()\n",
    "union.update(dict2)\n",
    "print(union)\n",
    "# Output: {'a': 1, 'b': 2, 'c': 4, 'd': 5}\n",
    "union = {**dict1, **dict2}\n",
    "print(union)\n",
    "\n",
    "union = dict1 | dict2\n",
    "print(union)\n"
   ]
  },
  {
   "cell_type": "code",
   "execution_count": 283,
   "metadata": {},
   "outputs": [
    {
     "name": "stdout",
     "output_type": "stream",
     "text": [
      "{\"name\": \"Alice\", \"age\": 25, \"city\": \"New York\"}\n",
      "{'name': 'Alice', 'age': 25, 'city': 'New York'}\n",
      "b'\\x80\\x04\\x95.\\x00\\x00\\x00\\x00\\x00\\x00\\x00}\\x94(\\x8c\\x04name\\x94\\x8c\\x05Alice\\x94\\x8c\\x03age\\x94K\\x19\\x8c\\x04city\\x94\\x8c\\x08New York\\x94u.'\n",
      "{'name': 'Alice', 'age': 25, 'city': 'New York'}\n"
     ]
    }
   ],
   "source": [
    "# Serialization \n",
    "import json\n",
    "\n",
    "my_dict = {'name': 'Alice', 'age': 25, 'city': 'New York'}\n",
    "json_str = json.dumps(my_dict)\n",
    "print(json_str)\n",
    "# Output: '{\"name\": \"Alice\", \"age\": 25, \"city\": \"New York\"}'\n",
    "\n",
    "# Deserialization with json.loads()\n",
    "\n",
    "\n",
    "json_str = '{\"name\": \"Alice\", \"age\": 25, \"city\": \"New York\"}'\n",
    "my_dict = json.loads(json_str)\n",
    "print(my_dict)\n",
    "# Output: {'name': 'Alice', 'age': 25, 'city': 'New York'}\n",
    "\n",
    "# Serialization with pickle.dumps():\n",
    "import pickle\n",
    "\n",
    "my_dict = {'name': 'Alice', 'age': 25, 'city': 'New York'}\n",
    "pickle_bytes = pickle.dumps(my_dict)\n",
    "print(pickle_bytes)\n",
    "# Output: b'\\x80\\x04\\x95...\\x94.'\n",
    "\n",
    "pickle_bytes = b'\\x80\\x04\\x95.\\x00\\x00\\x00\\x00\\x00\\x00\\x00}\\x94(\\x8c\\x04name\\x94\\x8c\\x05Alice\\x94\\x8c\\x03age\\x94K\\x19\\x8c\\x04city\\x94\\x8c\\x08New York\\x94u.'\n",
    "my_dict = pickle.loads(pickle_bytes)\n",
    "print(my_dict)\n",
    "# Output: {'name': 'Alice', 'age': 25, 'city': 'New York'}"
   ]
  },
  {
   "cell_type": "code",
   "execution_count": null,
   "metadata": {},
   "outputs": [],
   "source": []
  },
  {
   "cell_type": "markdown",
   "metadata": {},
   "source": [
    "# List"
   ]
  },
  {
   "cell_type": "code",
   "execution_count": 102,
   "metadata": {},
   "outputs": [
    {
     "name": "stdout",
     "output_type": "stream",
     "text": [
      "[1, 2, 3, 4, 5]\n",
      "[1, 2, 3, 4, 5]\n",
      "[1, 1, 3, 4, 5]\n",
      "[1, 1, 3, 4, 5]\n"
     ]
    }
   ],
   "source": [
    "# Removing duplicates from a list\n",
    "\n",
    "my_list = [1, 2, 2, 3, 4, 4, 5]\n",
    "unique_list = list(set(my_list))\n",
    "print(unique_list)\n",
    "\n",
    "out=[]\n",
    "for i in my_list:\n",
    "    if i not in out:    \n",
    "        out.append(i)\n",
    "    else:\n",
    "        continue\n",
    "print(out)\n",
    "\n",
    "\n",
    "# Sorting of list\n",
    "my_list = [3, 1, 4, 1, 5]\n",
    "my_list.sort()  # In-place sorting\n",
    "print(my_list)\n",
    "sorted_list = sorted(my_list)  # Returns a new sorted list\n",
    "print(sorted_list)"
   ]
  },
  {
   "cell_type": "code",
   "execution_count": 106,
   "metadata": {},
   "outputs": [
    {
     "name": "stdout",
     "output_type": "stream",
     "text": [
      "[4, 3, 2, 1]\n",
      "[4, 3, 2, 1]\n",
      "[4, 3, 2, 1]\n"
     ]
    }
   ],
   "source": [
    "my_list = [1, 2, 3, 4]\n",
    "\n",
    "# Method 1: Using reverse() method\n",
    "my_list.reverse()\n",
    "print(my_list)  \n",
    "\n",
    "my_list = [1, 2, 3, 4]\n",
    "# Method 2: Using slicing\n",
    "reversed_list = my_list[::-1]\n",
    "print(reversed_list)  # Output: [4, 3, 2, 1]\n",
    "\n",
    "# Method 3: Using the reversed() function\n",
    "reversed_list = list(reversed(my_list))\n",
    "print(reversed_list)  # Output: [4, 3, 2, 1]\n"
   ]
  },
  {
   "cell_type": "code",
   "execution_count": 2,
   "metadata": {},
   "outputs": [
    {
     "name": "stdout",
     "output_type": "stream",
     "text": [
      "[0, 1, 4, 9, 16, 25, 36, 49, 64, 81]\n",
      "6\n",
      "6\n"
     ]
    }
   ],
   "source": [
    "# Example: Create a list of squares of numbers from 0 to 9\n",
    "squares = [x**2 for x in range(10)]\n",
    "print(squares)\n",
    "\n",
    "# Finding occurence of an element\n",
    "my_list = [1, 2, 2, 3, 4, 4, 4, 5,4,6,4,8,4]\n",
    "count_of_4 = my_list.count(4)  \n",
    "print(count_of_4)\n",
    "\n",
    "\n",
    "count_4=0\n",
    "for i in my_list:\n",
    "    if i == 4:\n",
    "        count_4 += 1\n",
    "print(count_4)"
   ]
  },
  {
   "cell_type": "code",
   "execution_count": 6,
   "metadata": {},
   "outputs": [
    {
     "name": "stdout",
     "output_type": "stream",
     "text": [
      "{'Alice': ['Math', 'English'], 'Bob': ['Science', 'Math']}\n"
     ]
    }
   ],
   "source": [
    "students = [\n",
    "    (\"Alice\", \"Math\"),\n",
    "    (\"Bob\", \"Science\"),\n",
    "    (\"Alice\", \"English\"),\n",
    "    (\"Bob\", \"Math\"),\n",
    "]\n",
    "\n",
    "out={}\n",
    "for i,j in students:\n",
    "    if i not in out:\n",
    "        out[i]=[]\n",
    "        out[i].append(j)\n",
    "    else:\n",
    "        out[i].append(j)\n",
    "        \n",
    "print(out)"
   ]
  },
  {
   "cell_type": "code",
   "execution_count": 67,
   "metadata": {},
   "outputs": [
    {
     "name": "stdout",
     "output_type": "stream",
     "text": [
      "[1, 2, 3, 4, 5, 6]\n",
      "[1, 3, 5, 2, 4, 6]\n"
     ]
    }
   ],
   "source": [
    "# Merging of list\n",
    "\n",
    "import heapq\n",
    "list1 = [1, 3, 5]\n",
    "list2 = [2, 4, 6]\n",
    "merged_list = list(heapq.merge(list1, list2))  # Output: [1, 2, 3, 4, 5, 6]\n",
    "print(merged_list)\n",
    "\n",
    "merged_list1 = list1+list2\n",
    "print(merged_list1)"
   ]
  },
  {
   "cell_type": "code",
   "execution_count": 86,
   "metadata": {},
   "outputs": [
    {
     "name": "stdout",
     "output_type": "stream",
     "text": [
      "[1, 3, 4]\n",
      "[1, 3, 4]\n"
     ]
    }
   ],
   "source": [
    "my_list = [1, 2, 2, 3, 4, 2]\n",
    "\n",
    "# Removing occurence of  an element\n",
    "\n",
    "while 2 in my_list:\n",
    "    my_list.remove(2)\n",
    "print(my_list)\n",
    "\n",
    "my_new_lst = [i for i in my_list if i!=2]\n",
    "print(my_new_lst)"
   ]
  },
  {
   "cell_type": "code",
   "execution_count": 107,
   "metadata": {},
   "outputs": [
    {
     "name": "stdout",
     "output_type": "stream",
     "text": [
      "2\n"
     ]
    }
   ],
   "source": [
    "my_list = [1, 2, 3, 4, 3]\n",
    "\n",
    "# Finding the index of element 3\n",
    "index = my_list.index(3)\n",
    "print(index)  # Output: 2\n"
   ]
  },
  {
   "cell_type": "code",
   "execution_count": 111,
   "metadata": {},
   "outputs": [
    {
     "name": "stdout",
     "output_type": "stream",
     "text": [
      "[1, 2, 3]\n",
      "[1, 2, 3]\n"
     ]
    }
   ],
   "source": [
    "# Removeing multiple elements\n",
    "\n",
    "my_list = [1, 2, 3, 4, 5]\n",
    "\n",
    "out = [i for i in my_list if i<=3]\n",
    "print(out)\n",
    "\n",
    "out1= list(filter(lambda x:x<=3,my_list))\n",
    "print(out1)"
   ]
  },
  {
   "cell_type": "code",
   "execution_count": 126,
   "metadata": {},
   "outputs": [
    {
     "name": "stdout",
     "output_type": "stream",
     "text": [
      "[1, 2, 3, 4, 5, 6]\n",
      "[1, 2, 3, 4, 5, 6]\n",
      "[1, 2, 3, 4, 5, 6]\n"
     ]
    }
   ],
   "source": [
    "# flatten a list of lists\n",
    "\n",
    "list_of_lists = [[1, 2, 3], [4, 5], [6]]\n",
    "\n",
    "ls=[]\n",
    "for i in list_of_lists:\n",
    "    for j in i:\n",
    "        ls.append(j)\n",
    "print(ls)\n",
    "\n",
    "\n",
    "flattened_list=[i for item in list_of_lists for i in item]\n",
    "print(flattened_list)\n",
    "\n",
    "import itertools\n",
    "flattened_list = list(itertools.chain(*list_of_lists))\n",
    "print(flattened_list)"
   ]
  },
  {
   "cell_type": "code",
   "execution_count": 127,
   "metadata": {},
   "outputs": [
    {
     "name": "stdout",
     "output_type": "stream",
     "text": [
      "[3, 4, 5, 1, 2]\n"
     ]
    }
   ],
   "source": [
    "# rotate a list by n positions\n",
    "\n",
    "def rotate_list(lst, n):\n",
    "    return lst[n:] + lst[:n]\n",
    "\n",
    "my_list = [1, 2, 3, 4, 5]\n",
    "rotated_list = rotate_list(my_list, 2)\n",
    "print(rotated_list)  # Output: [3, 4, 5, 1, 2]\n"
   ]
  },
  {
   "cell_type": "code",
   "execution_count": 129,
   "metadata": {},
   "outputs": [
    {
     "name": "stdout",
     "output_type": "stream",
     "text": [
      "7\n",
      "7\n"
     ]
    }
   ],
   "source": [
    "# Removing Second largest element in a list\n",
    "\n",
    "# Method 1: Sorting\n",
    "my_list = [5, 3, 9, 7, 1]\n",
    "sorted_list = sorted(set(my_list))  # Removes duplicates and sorts\n",
    "second_largest = sorted_list[-2]\n",
    "print(second_largest)  # Output: 7\n",
    "\n",
    "# Method 2: Using a loop\n",
    "def second_largest(lst):\n",
    "    first = second = float('-inf')\n",
    "    for num in lst:\n",
    "        if num > first:\n",
    "            first, second = num, first\n",
    "        elif first > num > second:\n",
    "            second = num\n",
    "    return second\n",
    "\n",
    "my_list = [5, 3, 9, 7, 1]\n",
    "print(second_largest(my_list))  # Output: 7\n"
   ]
  },
  {
   "cell_type": "code",
   "execution_count": 130,
   "metadata": {},
   "outputs": [
    {
     "name": "stdout",
     "output_type": "stream",
     "text": [
      "True\n"
     ]
    }
   ],
   "source": [
    "# How do you check if all elements in a list are unique\n",
    "\n",
    "my_list = [1, 2, 3, 4]\n",
    "\n",
    "# Check if list is unique\n",
    "is_unique = len(my_list) == len(set(my_list))\n",
    "print(is_unique)  # Output: True"
   ]
  },
  {
   "cell_type": "code",
   "execution_count": 133,
   "metadata": {},
   "outputs": [
    {
     "name": "stdout",
     "output_type": "stream",
     "text": [
      "[1, 3, 6, 10]\n",
      "[1, 3, 6, 10]\n"
     ]
    }
   ],
   "source": [
    "import itertools\n",
    "\n",
    "my_list = [1, 2, 3, 4]\n",
    "\n",
    "# Using itertools.accumulate()\n",
    "cumulative_sum = list(itertools.accumulate(my_list))\n",
    "print(cumulative_sum)  # Output: [1, 3, 6, 10]\n",
    "\n",
    "# Using a loop\n",
    "def cumulative_sum(lst):\n",
    "    total = 0\n",
    "    result = []\n",
    "    for x in lst:\n",
    "        total += x\n",
    "        result.append(total)\n",
    "    return result\n",
    "\n",
    "print(cumulative_sum(my_list))  # Output: [1, 3, 6, 10]\n"
   ]
  },
  {
   "cell_type": "code",
   "execution_count": 135,
   "metadata": {},
   "outputs": [
    {
     "name": "stdout",
     "output_type": "stream",
     "text": [
      "Counter({3: 3, 2: 2, 1: 1, 4: 1})\n",
      "3\n"
     ]
    }
   ],
   "source": [
    "from collections import Counter\n",
    "\n",
    "my_list = [1, 2, 2, 3, 3, 3, 4]\n",
    "\n",
    "counter = Counter(my_list)\n",
    "print(counter)\n",
    "most_frequent = counter.most_common(1)[0][0]\n",
    "print(most_frequent)  # Output: 3\n"
   ]
  },
  {
   "cell_type": "code",
   "execution_count": 140,
   "metadata": {},
   "outputs": [
    {
     "name": "stdout",
     "output_type": "stream",
     "text": [
      "[1, 2, 3, 4, 5, 6, 7, 8, 9]\n"
     ]
    }
   ],
   "source": [
    "nested_list = [[1, 2, 3], [4, 5], [6, 7, 8, 9]]\n",
    "\n",
    "print([l for sublist in nested_list for l in sublist])"
   ]
  },
  {
   "cell_type": "code",
   "execution_count": null,
   "metadata": {},
   "outputs": [],
   "source": []
  },
  {
   "cell_type": "markdown",
   "metadata": {},
   "source": [
    "# SET\n",
    "Sets are unordered, so items do not have an index.\n",
    "Lists allow duplicates, while sets do not."
   ]
  },
  {
   "cell_type": "code",
   "execution_count": 141,
   "metadata": {},
   "outputs": [],
   "source": [
    "# Using curly braces\n",
    "my_set = {1, 2, 3}\n",
    "\n",
    "# Using set() function\n",
    "my_set = set([1, 2, 3])\n",
    "\n",
    "# Empty set\n",
    "empty_set = set()\n"
   ]
  },
  {
   "cell_type": "code",
   "execution_count": null,
   "metadata": {},
   "outputs": [],
   "source": [
    "# Converting set into list and tuple\n",
    "\n",
    "my_set = {1, 2, 3}\n",
    "my_list = list(my_set)  # [1, 2, 3]\n",
    "my_tuple = tuple(my_set)  # (1, 2, 3)"
   ]
  },
  {
   "cell_type": "code",
   "execution_count": 142,
   "metadata": {},
   "outputs": [],
   "source": [
    "# Add and remove elements from set\n",
    "\n",
    "my_set = {1, 2, 3}\n",
    "my_set.add(4)  # Adds 4 to the set\n",
    "my_set.remove(2)  # Removes 2 from the set\n",
    "my_set.discard(5)  # Safely discards 5, no error if 5 is not present\n"
   ]
  },
  {
   "cell_type": "markdown",
   "metadata": {},
   "source": [
    "# Set Operations"
   ]
  },
  {
   "cell_type": "code",
   "execution_count": 150,
   "metadata": {},
   "outputs": [
    {
     "name": "stdout",
     "output_type": "stream",
     "text": [
      "{1, 2, 4, 5}\n"
     ]
    }
   ],
   "source": [
    "set1 = {1, 2, 3}\n",
    "set2 = {3, 4, 5}\n",
    "\n",
    "#Union\n",
    "union_set = set1.union(set2)  # {1, 2, 3, 4, 5}\n",
    "union_set = set2 | set1  # {1, 2, 3, 4, 5}\n",
    "\n",
    "#Intersection\n",
    "intersection_set = set1.intersection(set2)  # {3}\n",
    "intersection_set = set2 & set1  # {3}\n",
    "\n",
    "\n",
    "# Difference\n",
    "difference_set = set1.difference(set2)  # {1, 2}\n",
    "difference_set = set2-set1 # {4, 5}\n",
    "\n",
    "\n",
    "# Symmetric Difference\n",
    "symmetric_difference_set = set1.symmetric_difference(set2)  # {1, 2, 4, 5}\n",
    "symmetric_difference_set = set2 ^ set1 # {1, 2, 4, 5}"
   ]
  },
  {
   "cell_type": "code",
   "execution_count": null,
   "metadata": {},
   "outputs": [],
   "source": [
    "set1 = {1, 2, 3}\n",
    "set2 = {3, 4, 5}\n",
    "set3 = {5, 6, 7}\n",
    "\n",
    "# Using union method\n",
    "combined_set = set1.union(set2, set3)  # {1, 2, 3, 4, 5, 6, 7}\n",
    "\n",
    "\n",
    "# Perform union, intersection, and difference in a single expression\n",
    "result = (set1 | set2) & set3 - {6}\n",
    "\n",
    "print(result)  # Output: {5}\n"
   ]
  },
  {
   "cell_type": "code",
   "execution_count": 151,
   "metadata": {},
   "outputs": [],
   "source": [
    "# Removing Duplicates\n",
    "\n",
    "my_list = [1, 2, 2, 3, 4, 4, 5]\n",
    "unique_list = list(set(my_list))  # [1, 2, 3, 4, 5]\n"
   ]
  },
  {
   "cell_type": "code",
   "execution_count": 156,
   "metadata": {},
   "outputs": [
    {
     "name": "stdout",
     "output_type": "stream",
     "text": [
      "{64, 1, 4, 36, 9, 16, 49, 81, 25}\n"
     ]
    }
   ],
   "source": [
    "myset={i*i for i in range(1,10)}\n",
    "print(myset)"
   ]
  },
  {
   "cell_type": "code",
   "execution_count": null,
   "metadata": {},
   "outputs": [],
   "source": [
    "# removeing multiple elements from a set\n",
    "\n",
    "my_set = {1, 2, 3, 4, 5}\n",
    "\n",
    "# Using difference_update()\n",
    "my_set.difference_update([2, 3])  # my_set becomes {1, 4, 5}\n",
    "\n",
    "# Using discard in a loop\n",
    "for elem in [4, 5]:\n",
    "    my_set.discard(elem)  # my_set becomes {1}"
   ]
  },
  {
   "cell_type": "code",
   "execution_count": 157,
   "metadata": {},
   "outputs": [],
   "source": [
    "set1 = {1, 2, 3, 4}\n",
    "set2 = {3, 4, 5}\n",
    "set1.intersection_update(set2)  # set1 becomes {3, 4}\n",
    "\n",
    "set1.difference_update(set2)  # set1 becomes {1, 2}"
   ]
  },
  {
   "cell_type": "code",
   "execution_count": 158,
   "metadata": {},
   "outputs": [],
   "source": [
    "set1 = {1, 2, 3}\n",
    "set2 = {4, 5, 6}\n",
    "\n",
    "# Check if sets are disjoint\n",
    "are_disjoint = set1.isdisjoint(set2)  # True, since there are no common elements\n"
   ]
  },
  {
   "cell_type": "code",
   "execution_count": null,
   "metadata": {},
   "outputs": [],
   "source": [
    "# remove duplicates from a list and maintain the order of elements\n",
    "\n",
    "my_list = [1, 2, 2, 3, 1, 4, 5, 3]\n",
    "# Using dict.fromkeys() which preserves order (Python 3.7+)\n",
    "unique_list = list(dict.fromkeys(my_list))\n",
    "\n",
    "# Alternatively, using a set but keeping order manually\n",
    "unique_set = set()\n",
    "unique_list = [x for x in my_list if not (x in unique_set or unique_set.add(x))]\n",
    "\n",
    "print(unique_list)  # Output: [1, 2, 3, 4, 5]\n"
   ]
  }
 ],
 "metadata": {
  "kernelspec": {
   "display_name": "Python 3",
   "language": "python",
   "name": "python3"
  },
  "language_info": {
   "codemirror_mode": {
    "name": "ipython",
    "version": 3
   },
   "file_extension": ".py",
   "mimetype": "text/x-python",
   "name": "python",
   "nbconvert_exporter": "python",
   "pygments_lexer": "ipython3",
   "version": "3.11.9"
  }
 },
 "nbformat": 4,
 "nbformat_minor": 2
}
