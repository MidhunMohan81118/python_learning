{
 "cells": [
  {
   "cell_type": "code",
   "execution_count": null,
   "metadata": {},
   "outputs": [],
   "source": [
    "*\n",
    "**\n",
    "***"
   ]
  },
  {
   "cell_type": "code",
   "execution_count": 4,
   "metadata": {},
   "outputs": [
    {
     "name": "stdout",
     "output_type": "stream",
     "text": [
      "\n",
      "*\n",
      "**\n",
      "***\n",
      "****\n",
      "*****\n"
     ]
    }
   ],
   "source": [
    "text=int(input(\"Enter the number\"))\n",
    "\n",
    "def lines():\n",
    "    for i in range(text+1):\n",
    "        print(i*\"*\")\n",
    "\n",
    "lines()"
   ]
  },
  {
   "cell_type": "code",
   "execution_count": 1,
   "metadata": {},
   "outputs": [
    {
     "name": "stdout",
     "output_type": "stream",
     "text": [
      "\n",
      "*\n",
      "**\n",
      "***\n",
      "****\n",
      "*****\n"
     ]
    }
   ],
   "source": [
    "def lines(n):\n",
    "    if n == 0:\n",
    "        return \"\"\n",
    "    else:\n",
    "        return lines(n-1) + \"\\n\" + \"*\" * n\n",
    "\n",
    "text = int(input(\"Enter the number: \"))\n",
    "result = lines(text)\n",
    "print(result)"
   ]
  },
  {
   "cell_type": "code",
   "execution_count": null,
   "metadata": {},
   "outputs": [],
   "source": [
    "data = pd.DataFrame({\"student_id\": [29, 59, 72, 54],\n",
    " \n",
    "                       \"Name\": ['sravan', 'jyothika',\n",
    " \n",
    "                                'harsha', 'ramya'],})\n",
    " \n",
    " \n",
    " \n",
    " \n",
    "data.index = data['student_id']\n",
    "\n",
    "#reset index\n",
    "data=data.reset_index(drop=True)\n",
    "print(data)"
   ]
  },
  {
   "cell_type": "code",
   "execution_count": 2,
   "metadata": {},
   "outputs": [
    {
     "name": "stdout",
     "output_type": "stream",
     "text": [
      "21\n",
      "21\n"
     ]
    }
   ],
   "source": [
    "from functools import reduce\n",
    "\n",
    "l=[1,2,3,4,5,6]\n",
    "\n",
    "result=list(map(lambda x:x,l))\n",
    "print(sum(result))\n",
    "\n",
    "print(reduce(lambda x,y:x+y,l))"
   ]
  },
  {
   "cell_type": "code",
   "execution_count": 17,
   "metadata": {},
   "outputs": [
    {
     "name": "stdout",
     "output_type": "stream",
     "text": [
      "HELLO MIDHUN\n"
     ]
    }
   ],
   "source": [
    "\n",
    "def upper(fun):\n",
    "    def inner(name):\n",
    "        return fun(name).upper()\n",
    "    return inner\n",
    "@upper\n",
    "\n",
    "def hello(name):\n",
    "    return f\"Hello {name}\"\n",
    "print(hello(\"Midhun\"))"
   ]
  },
  {
   "cell_type": "code",
   "execution_count": 31,
   "metadata": {},
   "outputs": [
    {
     "name": "stdout",
     "output_type": "stream",
     "text": [
      "[1, 2, [3, 4], 5]\n",
      "[1, 2, [3, 4], 5]\n",
      "[1, 2, [3, 4], 5]\n",
      "[1, 2, [3, 'AB'], 5]\n",
      "[1, 2, [3, 'AB'], 5]\n",
      "[1, 2, [3, 4], 5]\n"
     ]
    }
   ],
   "source": [
    "import copy\n",
    "\n",
    "l=[1,2,[3,4],5]\n",
    "sc=copy.copy(l)\n",
    "dc=copy.deepcopy(l)\n",
    "\n",
    "print(l)\n",
    "print(sc)\n",
    "print(dc)\n",
    "\n",
    "\n",
    "l[2][1]=\"AB\"\n",
    "\n",
    "print(l)\n",
    "print(sc)\n",
    "print(dc)"
   ]
  },
  {
   "cell_type": "code",
   "execution_count": null,
   "metadata": {},
   "outputs": [],
   "source": []
  },
  {
   "cell_type": "code",
   "execution_count": null,
   "metadata": {},
   "outputs": [],
   "source": []
  },
  {
   "cell_type": "code",
   "execution_count": 6,
   "metadata": {},
   "outputs": [
    {
     "data": {
      "text/plain": [
       "27"
      ]
     },
     "execution_count": 6,
     "metadata": {},
     "output_type": "execute_result"
    }
   ],
   "source": [
    "def cube():\n",
    "    n=int(input(\"enter a number\"))\n",
    "    return n**3\n",
    "\n",
    "cube()"
   ]
  },
  {
   "cell_type": "code",
   "execution_count": 5,
   "metadata": {},
   "outputs": [
    {
     "data": {
      "text/plain": [
       "7"
      ]
     },
     "execution_count": 5,
     "metadata": {},
     "output_type": "execute_result"
    }
   ],
   "source": [
    "class Calculator:\n",
    "    def addition(self,a,b):\n",
    "        return a+b\n",
    "    def subtraction(self,a,b):\n",
    "        return a-b\n",
    "    \n",
    "a=Calculator()\n",
    "a.addition(5,2)\n",
    "    "
   ]
  },
  {
   "cell_type": "code",
   "execution_count": null,
   "metadata": {},
   "outputs": [],
   "source": []
  }
 ],
 "metadata": {
  "kernelspec": {
   "display_name": "Python 3",
   "language": "python",
   "name": "python3"
  },
  "language_info": {
   "codemirror_mode": {
    "name": "ipython",
    "version": 3
   },
   "file_extension": ".py",
   "mimetype": "text/x-python",
   "name": "python",
   "nbconvert_exporter": "python",
   "pygments_lexer": "ipython3",
   "version": "3.11.9"
  }
 },
 "nbformat": 4,
 "nbformat_minor": 2
}
